# Note this is a work in progess.

# Defines the outline and layout of the board
from IPython.display import clear_output

def display_board(board):
    print(board[7] + ' | ' + board[8] + ' | ' + board[9])
    print('--|---|--')
    print(board[4] + ' | ' + board[5] + ' | ' + board[6])
    print('--|---|--')
    print(board[1] + ' | ' + board[2] + ' | ' + board[3])

# Prompts the first player to select their marker
def player_input():
  marker = ''
  
  while marker != 'X' and marker != 'O':
      marker = input('Player1: Choose X or O: ').upper()
      if marker == 'X':
      
          return ('X','O')
      else:
          return ('O','X')

player1_marker, player2_marker = player_input()

def place_marker(board, marker, postion)
    board[position] = marker
    
the_board

def win_check(board, mark):
    return ((board[4] == board[5] == board[6] == mark) or
    (board[7] == board[8] == board[9] == mark) or
    (board[1] == board[2] == board[3] == mark) or
    (board[1] == board[4] == board[7] == mark) or
    (board[2] == board[5] == board[8] == mark) or
    (board[3] == board[6] == board[9] == mark) or
    (board[7] == board[5] == board[3] == mark) or
    (board[9] == board[5] == board[1] == mark))

    # Random coin flip to determine which player starts first.
    import random
    def choose_first():
    flip = random.randint(0,1)
    if flip === 0:
        return 'Player 1'
    else:
        return 'Player 2'
    
    # Check to determine where there are spaces on the board.    
    def space_check(board, position):
    return board[position] == ' '

    # Check for the whole board.
    def full_board_check(board):
    for i in range(1,10):
        if space_check(board,i):
            return False
 
    # Asks player to make a position choice.
    def player_choice(board):
    position = 0
    while position not in [1,2,3,4,5,6,7,8,9] or not space_check(board,position):
        position = int(input('Choose a position: (1-9) '))
        return position

# Welcome message introducing players to the game.
print('Welcome to Noughts & Crosses')

while True:
    
# Play the game.
    
## Set up the board and players and who goes first.
the_board = [' '] * 10
display_board(the_board)
player1_marker,player2_marker = player_input()

turn = choose_first()
print(turn + ' will go first')

play_game = input ('Are you ready to play? Yes or No? ')

if play_game == 'y':
    game_on = True
else:
    game_on = False
    
## Game play

while game_on:
    
   if turn == 'Player 1':
    
    #Show the board
    display_board(the_board)
    # Choose a position
    position = player_choice(the_board)
    #Place a marker on the position
    place_marker(the_board,player1_marker,position)
    #Check if they won
    if win_check(the_board,player1_marker):
        display_board(the_board)
        print('Player 1 has won!!')
        game_on = False
    else:
        if full_board_check(the_board:
           display_board(the_board)
               print("The game was a tie")
               game_on = False
           else:
               turn = 'Player 2'
                            
    else:
         #Show the board
         display_board(the_board)
         # Choose a position
         position = player_choice(the_board)
         #Place a marker on the position
         place_marker(the_board,player2_marker,position)
         #Check if they won
         if win_check(the_board,player2_marker):
            display_board(the_board)
            print('Player 2 has won!!')
            game_on = False
        else:
            if full_board_check(the_board:
            display_board(the_board)
                print("The game was a tie!")
                game_on = False
            else:
               turn = 'Player 1'
    
    # Asks player if they want to play again.    
    def replay():
    input("Do you want to play again? Enter Yes or No")
    return choice === 'Yes'

if not replay():
    break
    # Break out of the while loop on replay()
